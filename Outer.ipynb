{
 "cells": [
  {
   "cell_type": "code",
   "execution_count": 5,
   "id": "84db05ff",
   "metadata": {},
   "outputs": [
    {
     "name": "stdout",
     "output_type": "stream",
     "text": [
      "[[0.49   0.385  0.084  0.14  ]\n",
      " [0.385  0.3025 0.066  0.11  ]\n",
      " [0.084  0.066  0.0144 0.024 ]\n",
      " [0.14   0.11   0.024  0.04  ]]\n"
     ]
    }
   ],
   "source": [
    "import numpy as np\n",
    "\n",
    "w = np.array([0.7, 0.55, 0.12, 0.2])\n",
    "\n",
    "print(np.outer(w,w))"
   ]
  },
  {
   "cell_type": "code",
   "execution_count": null,
   "id": "9cea82b0",
   "metadata": {},
   "outputs": [],
   "source": []
  }
 ],
 "metadata": {
  "kernelspec": {
   "display_name": "Python 3 (ipykernel)",
   "language": "python",
   "name": "python3"
  },
  "language_info": {
   "codemirror_mode": {
    "name": "ipython",
    "version": 3
   },
   "file_extension": ".py",
   "mimetype": "text/x-python",
   "name": "python",
   "nbconvert_exporter": "python",
   "pygments_lexer": "ipython3",
   "version": "3.11.5"
  }
 },
 "nbformat": 4,
 "nbformat_minor": 5
}
